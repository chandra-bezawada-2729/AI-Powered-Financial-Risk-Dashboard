{
 "cells": [
  {
   "cell_type": "code",
   "execution_count": null,
   "id": "fba119d2-e8af-4f50-803b-34d5c2159a8d",
   "metadata": {},
   "outputs": [],
   "source": [
    "from typing import Optional\n",
    "from sqlmodel import SQLModel, Field\n",
    "from datetime import date\n",
    "\n",
    "class Loan(SQLModel, table=True):\n",
    "    id: Optional[int] = Field(default=None, primary_key=True)\n",
    "    borrower_id: str\n",
    "    amount: float\n",
    "    ltv: float\n",
    "    dti: float\n",
    "    delinquency_history: int\n",
    "    exposure_at_default: float\n",
    "\n",
    "class Transaction(SQLModel, table=True):\n",
    "    id: Optional[int] = Field(default=None, primary_key=True)\n",
    "    account_id: str\n",
    "    amount: float\n",
    "    timestamp: date\n",
    "    merchant: Optional[str] = None\n",
    "\n",
    "class Macro(SQLModel, table=True):\n",
    "    id: Optional[int] = Field(default=None, primary_key=True)\n",
    "    asof: date\n",
    "    cpi: float\n",
    "    gdp_growth: float\n",
    "    policy_rate_bps: float"
   ]
  }
 ],
 "metadata": {
  "kernelspec": {
   "display_name": "Python 3 (ipykernel)",
   "language": "python",
   "name": "python3"
  },
  "language_info": {
   "codemirror_mode": {
    "name": "ipython",
    "version": 3
   },
   "file_extension": ".py",
   "mimetype": "text/x-python",
   "name": "python",
   "nbconvert_exporter": "python",
   "pygments_lexer": "ipython3",
   "version": "3.13.5"
  }
 },
 "nbformat": 4,
 "nbformat_minor": 5
}
