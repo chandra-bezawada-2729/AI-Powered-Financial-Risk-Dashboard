{
 "cells": [
  {
   "cell_type": "code",
   "execution_count": null,
   "id": "8e993a07-e273-42cf-8578-703e69bd1e24",
   "metadata": {},
   "outputs": [],
   "source": [
    "\"\"\"\n",
    "Anomaly service:\n",
    "- IsolationForest-like scoring (toy): z-score thresholding\n",
    "- Returns indices flagged anomalous and precision mock (95%)\n",
    "\"\"\"\n",
    "import numpy as np\n",
    "from typing import Dict\n",
    "\n",
    "def detect_anomalies(values: list, z_thresh: float = 3.0) -> Dict:\n",
    "    x = np.array(values, dtype=float)\n",
    "    mu = float(np.mean(x))\n",
    "    sigma = float(np.std(x) + 1e-9)\n",
    "    z = (x - mu) / sigma\n",
    "    indices = np.where(np.abs(z) >= z_thresh)[0].tolist()\n",
    "    return {\n",
    "        \"mean\": mu, \"std\": sigma,\n",
    "        \"z_threshold\": z_thresh,\n",
    "        \"indices\": indices,\n",
    "        \"precision\": 0.95\n",
    "    }"
   ]
  }
 ],
 "metadata": {
  "kernelspec": {
   "display_name": "Python 3 (ipykernel)",
   "language": "python",
   "name": "python3"
  },
  "language_info": {
   "codemirror_mode": {
    "name": "ipython",
    "version": 3
   },
   "file_extension": ".py",
   "mimetype": "text/x-python",
   "name": "python",
   "nbconvert_exporter": "python",
   "pygments_lexer": "ipython3",
   "version": "3.13.5"
  }
 },
 "nbformat": 4,
 "nbformat_minor": 5
}
