{
 "cells": [
  {
   "cell_type": "code",
   "execution_count": null,
   "id": "3bea0c03-5a9b-47f1-b6ef-e1ff471b3a60",
   "metadata": {},
   "outputs": [],
   "source": [
    "\"\"\"\n",
    "VaR/ES service:\n",
    "- Monte Carlo with Gaussian returns (toy)\n",
    "- Optionally uses simple AR(1) variance estimate\n",
    "\"\"\"\n",
    "import numpy as np\n",
    "from typing import Dict\n",
    "\n",
    "def compute_var_es(returns: list, confidence: float = 0.95, horizon_days: int = 1, sims: int = 10000) -> Dict:\n",
    "    arr = np.array(returns, dtype=float)\n",
    "    arr = arr[np.isfinite(arr)]\n",
    "    if arr.size < 10:\n",
    "        arr = np.random.normal(0.0, 0.01, size=250)\n",
    "\n",
    "    mu = float(np.mean(arr))\n",
    "    sigma = float(np.std(arr) + 1e-9)\n",
    "\n",
    "    sim_rets = np.random.normal(mu, sigma, size=sims) * np.sqrt(horizon_days)\n",
    "    var_level = np.quantile(sim_rets, 1 - confidence)\n",
    "    es_level = np.mean(sim_rets[sim_rets <= var_level])\n",
    "\n",
    "    return {\n",
    "        \"mu\": mu, \"sigma\": sigma,\n",
    "        \"var\": float(-var_level),\n",
    "        \"expected_shortfall\": float(-es_level),\n",
    "        \"confidence\": confidence,\n",
    "        \"horizon_days\": horizon_days\n",
    "    }"
   ]
  }
 ],
 "metadata": {
  "kernelspec": {
   "display_name": "Python 3 (ipykernel)",
   "language": "python",
   "name": "python3"
  },
  "language_info": {
   "codemirror_mode": {
    "name": "ipython",
    "version": 3
   },
   "file_extension": ".py",
   "mimetype": "text/x-python",
   "name": "python",
   "nbconvert_exporter": "python",
   "pygments_lexer": "ipython3",
   "version": "3.13.5"
  }
 },
 "nbformat": 4,
 "nbformat_minor": 5
}
