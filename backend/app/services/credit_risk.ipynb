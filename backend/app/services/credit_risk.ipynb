{
 "cells": [
  {
   "cell_type": "code",
   "execution_count": null,
   "id": "d811e645-3802-41c6-a0fc-341e57686a9b",
   "metadata": {},
   "outputs": [],
   "source": [
    "\"\"\"\n",
    "Credit Risk service:\n",
    "- Loads model if artifacts exist, else uses a simple heuristic\n",
    "- Returns PD (probability of default) and feature attributions (mock SHAP)\n",
    "\"\"\"\n",
    "import os\n",
    "import pickle\n",
    "import numpy as np\n",
    "\n",
    "ARTIFACT_PATH = os.getenv(\"CREDIT_MODEL_PATH\", \"/models/credit_model.pkl\")\n",
    "\n",
    "def _heuristic_pd(ltv: float, dti: float, delinq: int, ead: float):\n",
    "    score = 0.4*ltv + 0.4*dti + 0.1*delinq + 0.1*np.log1p(max(ead, 0.0))\n",
    "    pd = 1 / (1 + np.exp(-(score - 1.5)))  # squash\n",
    "    return float(np.clip(pd, 0.01, 0.99))\n",
    "\n",
    "def predict_pd(features: dict):\n",
    "    if os.path.exists(ARTIFACT_PATH):\n",
    "        try:\n",
    "            with open(ARTIFACT_PATH, \"rb\") as f:\n",
    "                model = pickle.load(f)\n",
    "            X = np.array([[features[\"ltv\"], features[\"dti\"],\n",
    "                           features[\"delinquency_history\"],\n",
    "                           features[\"exposure_at_default\"]]])\n",
    "            proba = model.predict_proba(X)[0,1]\n",
    "            pd = float(np.clip(proba, 0.01, 0.99))\n",
    "        except Exception:\n",
    "            pd = _heuristic_pd(features[\"ltv\"], features[\"dti\"],\n",
    "                               features[\"delinquency_history\"],\n",
    "                               features[\"exposure_at_default\"])\n",
    "    else:\n",
    "        pd = _heuristic_pd(features[\"ltv\"], features[\"dti\"],\n",
    "                           features[\"delinquency_history\"],\n",
    "                           features[\"exposure_at_default\"])\n",
    "\n",
    "    total = features[\"ltv\"] + features[\"dti\"] + features[\"delinquency_history\"] + features[\"exposure_at_default\"]\n",
    "    if total == 0: total = 1.0\n",
    "    attributions = {\n",
    "        \"ltv\": round(features[\"ltv\"]/total, 3),\n",
    "        \"dti\": round(features[\"dti\"]/total, 3),\n",
    "        \"delinquency_history\": round(features[\"delinquency_history\"]/total, 3),\n",
    "        \"exposure_at_default\": round(features[\"exposure_at_default\"]/total, 3),\n",
    "    }\n",
    "    return {\"pd\": pd, \"attributions\": attributions}"
   ]
  }
 ],
 "metadata": {
  "kernelspec": {
   "display_name": "Python 3 (ipykernel)",
   "language": "python",
   "name": "python3"
  },
  "language_info": {
   "codemirror_mode": {
    "name": "ipython",
    "version": 3
   },
   "file_extension": ".py",
   "mimetype": "text/x-python",
   "name": "python",
   "nbconvert_exporter": "python",
   "pygments_lexer": "ipython3",
   "version": "3.13.5"
  }
 },
 "nbformat": 4,
 "nbformat_minor": 5
}
