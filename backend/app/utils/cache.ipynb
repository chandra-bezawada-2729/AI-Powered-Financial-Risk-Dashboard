{
 "cells": [
  {
   "cell_type": "code",
   "execution_count": null,
   "id": "4d9258ae-f135-423c-933a-9db1fd11a7fa",
   "metadata": {},
   "outputs": [],
   "source": [
    "import os\n",
    "import json\n",
    "import redis\n",
    "\n",
    "REDIS_HOST = os.getenv(\"REDIS_HOST\", \"redis\")\n",
    "REDIS_PORT = int(os.getenv(\"REDIS_PORT\", \"6379\"))\n",
    "REDIS_DB = int(os.getenv(\"REDIS_DB\", \"0\"))\n",
    "\n",
    "_redis = redis.Redis(host=REDIS_HOST, port=REDIS_PORT, db=REDIS_DB)\n",
    "\n",
    "def cache_get(key: str):\n",
    "    val = _redis.get(key)\n",
    "    return json.loads(val) if val else None\n",
    "\n",
    "def cache_set(key: str, payload, ttl_seconds: int = 300):\n",
    "    _redis.set(key, json.dumps(payload), ex=ttl_seconds)"
   ]
  }
 ],
 "metadata": {
  "kernelspec": {
   "display_name": "Python 3 (ipykernel)",
   "language": "python",
   "name": "python3"
  },
  "language_info": {
   "codemirror_mode": {
    "name": "ipython",
    "version": 3
   },
   "file_extension": ".py",
   "mimetype": "text/x-python",
   "name": "python",
   "nbconvert_exporter": "python",
   "pygments_lexer": "ipython3",
   "version": "3.13.5"
  }
 },
 "nbformat": 4,
 "nbformat_minor": 5
}
