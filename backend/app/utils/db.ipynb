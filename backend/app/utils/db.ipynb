{
 "cells": [
  {
   "cell_type": "code",
   "execution_count": null,
   "id": "660ed065-3a78-4dc1-93a0-aaa50429b7a1",
   "metadata": {},
   "outputs": [],
   "source": [
    "import os\n",
    "from sqlmodel import SQLModel, create_engine, Session\n",
    "\n",
    "POSTGRES_USER = os.getenv(\"POSTGRES_USER\", \"postgres\")\n",
    "POSTGRES_PASSWORD = os.getenv(\"POSTGRES_PASSWORD\", \"postgres\")\n",
    "POSTGRES_DB = os.getenv(\"POSTGRES_DB\", \"riskdb\")\n",
    "POSTGRES_HOST = os.getenv(\"POSTGRES_HOST\", \"db\")\n",
    "POSTGRES_PORT = int(os.getenv(\"POSTGRES_PORT\", \"5432\"))\n",
    "\n",
    "DATABASE_URL = f\"postgresql+psycopg://{POSTGRES_USER}:{POSTGRES_PASSWORD}@{POSTGRES_HOST}:{POSTGRES_PORT}/{POSTGRES_DB}\"\n",
    "engine = create_engine(DATABASE_URL, echo=False)\n",
    "\n",
    "def init_db():\n",
    "    from ..models import Loan, Transaction, Macro\n",
    "    SQLModel.metadata.create_all(engine)\n",
    "\n",
    "def get_session():\n",
    "    with Session(engine) as session:\n",
    "        yield session"
   ]
  }
 ],
 "metadata": {
  "kernelspec": {
   "display_name": "Python 3 (ipykernel)",
   "language": "python",
   "name": "python3"
  },
  "language_info": {
   "codemirror_mode": {
    "name": "ipython",
    "version": 3
   },
   "file_extension": ".py",
   "mimetype": "text/x-python",
   "name": "python",
   "nbconvert_exporter": "python",
   "pygments_lexer": "ipython3",
   "version": "3.13.5"
  }
 },
 "nbformat": 4,
 "nbformat_minor": 5
}
