{
 "cells": [
  {
   "cell_type": "code",
   "execution_count": null,
   "id": "dbd8caf0-96d3-4fbb-bfe7-5173541da7c9",
   "metadata": {},
   "outputs": [],
   "source": [
    "import pandas as pd, numpy as np, pickle, os\n",
    "from sklearn.model_selection import train_test_split\n",
    "from sklearn.linear_model import LogisticRegression\n",
    "\n",
    "os.makedirs(\"models/artifacts\", exist_ok=True)\n",
    "df = pd.read_csv(\"data/loan_sample.csv\")\n",
    "X = df[[\"ltv\",\"dti\",\"delinquency_history\",\"exposure_at_default\"]].values\n",
    "y = df[\"defaulted\"].values\n",
    "X_train, X_test, y_train, y_test = train_test_split(X,y, test_size=0.2, random_state=42)\n",
    "clf = LogisticRegression(max_iter=1000)\n",
    "clf.fit(X_train,y_train)\n",
    "with open(\"models/artifacts/credit_model.pkl\",\"wb\") as f:\n",
    "    pickle.dump(clf,f)\n",
    "print(\"Saved models/artifacts/credit_model.pkl\")"
   ]
  }
 ],
 "metadata": {
  "kernelspec": {
   "display_name": "Python 3 (ipykernel)",
   "language": "python",
   "name": "python3"
  },
  "language_info": {
   "codemirror_mode": {
    "name": "ipython",
    "version": 3
   },
   "file_extension": ".py",
   "mimetype": "text/x-python",
   "name": "python",
   "nbconvert_exporter": "python",
   "pygments_lexer": "ipython3",
   "version": "3.13.5"
  }
 },
 "nbformat": 4,
 "nbformat_minor": 5
}
