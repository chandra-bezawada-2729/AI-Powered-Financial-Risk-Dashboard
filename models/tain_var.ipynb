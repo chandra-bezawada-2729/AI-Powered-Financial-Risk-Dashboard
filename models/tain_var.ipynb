{
 "cells": [
  {
   "cell_type": "code",
   "execution_count": null,
   "id": "0c275d6d-460d-4ff5-8d63-26f636353385",
   "metadata": {},
   "outputs": [],
   "source": [
    "import pandas as pd, numpy as np, json, os\n",
    "rets = pd.read_csv(\"data/transactions_sample.csv\")[\"returns\"].fillna(0).tolist()\n",
    "stats = {\n",
    "  \"mu\": float(np.mean(rets)),\n",
    "  \"sigma\": float(np.std(rets))\n",
    "}\n",
    "os.makedirs(\"models/artifacts\", exist_ok=True)\n",
    "with open(\"models/artifacts/var_stats.json\",\"w\") as f:\n",
    "    json.dump(stats,f)\n",
    "print(\"Saved models/artifacts/var_stats.json\")"
   ]
  }
 ],
 "metadata": {
  "kernelspec": {
   "display_name": "Python 3 (ipykernel)",
   "language": "python",
   "name": "python3"
  },
  "language_info": {
   "codemirror_mode": {
    "name": "ipython",
    "version": 3
   },
   "file_extension": ".py",
   "mimetype": "text/x-python",
   "name": "python",
   "nbconvert_exporter": "python",
   "pygments_lexer": "ipython3",
   "version": "3.13.5"
  }
 },
 "nbformat": 4,
 "nbformat_minor": 5
}
