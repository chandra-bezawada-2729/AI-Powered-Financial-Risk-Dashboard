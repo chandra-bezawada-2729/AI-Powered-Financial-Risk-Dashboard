{
 "cells": [
  {
   "cell_type": "code",
   "execution_count": null,
   "id": "dcb644b3-dffe-4c6c-8451-ca525b71fc69",
   "metadata": {},
   "outputs": [],
   "source": [
    "import pandas as pd, numpy as np, json, os\n",
    "vals = pd.read_csv(\"data/transactions_sample.csv\")[\"amount\"].fillna(0).tolist()\n",
    "summary = {\"mean\": float(np.mean(vals)), \"std\": float(np.std(vals))}\n",
    "os.makedirs(\"models/artifacts\", exist_ok=True)\n",
    "with open(\"models/artifacts/anom_baseline.json\",\"w\") as f:\n",
    "    json.dump(summary,f)\n",
    "print(\"Saved models/artifacts/anom_baseline.json\")"
   ]
  }
 ],
 "metadata": {
  "kernelspec": {
   "display_name": "Python 3 (ipykernel)",
   "language": "python",
   "name": "python3"
  },
  "language_info": {
   "codemirror_mode": {
    "name": "ipython",
    "version": 3
   },
   "file_extension": ".py",
   "mimetype": "text/x-python",
   "name": "python",
   "nbconvert_exporter": "python",
   "pygments_lexer": "ipython3",
   "version": "3.13.5"
  }
 },
 "nbformat": 4,
 "nbformat_minor": 5
}
